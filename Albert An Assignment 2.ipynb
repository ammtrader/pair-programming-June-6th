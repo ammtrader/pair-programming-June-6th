{
 "cells": [
  {
   "cell_type": "code",
   "execution_count": 7,
   "metadata": {
    "collapsed": false
   },
   "outputs": [
    {
     "name": "stdout",
     "output_type": "stream",
     "text": [
      "Please enter number20\n",
      "even\n"
     ]
    }
   ],
   "source": [
    "#Part 2: Write a Function to Tell If a Number is Odd or Even\n",
    "num=input(\"Please enter number\")\n",
    "if num % 2 == 0:\n",
    "    print(\"even\") \n",
    "else:\n",
    "    print(\"odd\")"
   ]
  },
  {
   "cell_type": "code",
   "execution_count": 70,
   "metadata": {
    "collapsed": false
   },
   "outputs": [
    {
     "name": "stdout",
     "output_type": "stream",
     "text": [
      "It's a weekday, time to get up!\n"
     ]
    }
   ],
   "source": [
    "#Part 3: Sleep In Calculator\n",
    "import datetime\n",
    "\n",
    "day = datetime.datetime.today().weekday() #looks up current date\n",
    "if day<5: #integer count starts on a Monday in Python\n",
    "    print \"It's a weekday, time to get up!\"\n",
    "else:\n",
    "    print \"It's a weekend, go ahead and sleep in!\"\n",
    "\n",
    "# class datetime.date\n",
    "# An idealized naive date, assuming the current Gregorian calendar always was, and always will be, in effect. Attributes: year, month, and day.\n",
    "# class datetime.time\n",
    "# An idealized time, independent of any particular day, assuming that every day has exactly 24*60*60 seconds (there is no notion of “leap seconds” here). Attributes: hour, minute, second, microsecond, and tzinfo.\n",
    "# class datetime.datetime\n",
    "# A combination of a date and a time. Attributes: year, month, day, hour, minute, second, microsecond, and tzinfo.\n",
    "# class datetime.timedelta\n",
    "# A duration expressing the difference between two date, time, or datetime instances to microsecond resolution.\n",
    "# class datetime.tzinfo\n",
    "# An abstract base class for time zone information objects. These are used by the datetime and time classes to provide a customizable notion of time adjustment (for example, to account for time zone and/or daylight saving time).\n",
    "# class datetime.timezone\n",
    "# A class that implements the tzinfo abstract base class as a fixed offset from the UTC."
   ]
  },
  {
   "cell_type": "code",
   "execution_count": 77,
   "metadata": {
    "collapsed": false
   },
   "outputs": [
    {
     "name": "stdout",
     "output_type": "stream",
     "text": [
      "<i>Yay</i>\n",
      "<i>Hello</i>\n",
      "<cite>Yay</cite>\n"
     ]
    }
   ],
   "source": [
    "#Part 1: Make HTML Tags\n",
    "def add_tags(tag, word):\n",
    "    return \"<%s>%s</%s>\" % (tag, word, tag)\n",
    "print(add_tags('i', 'Yay'))\n",
    "print(add_tags('i', 'Hello'))\n",
    "print(add_tags('cite', 'Yay'))"
   ]
  },
  {
   "cell_type": "code",
   "execution_count": 2,
   "metadata": {
    "collapsed": false
   },
   "outputs": [
    {
     "name": "stdout",
     "output_type": "stream",
     "text": [
      "100\n"
     ]
    }
   ],
   "source": [
    "def square(number):\n",
    "    y=number**2\n",
    "    return y\n",
    "\n",
    "result=square(number=10)\n",
    "print (result)\n"
   ]
  },
  {
   "cell_type": "code",
   "execution_count": 7,
   "metadata": {
    "collapsed": false
   },
   "outputs": [
    {
     "name": "stdout",
     "output_type": "stream",
     "text": [
      "(301)704-1328\n"
     ]
    }
   ],
   "source": [
    "def number_formatted(phone_number):\n",
    "    area_code=phone_number[0:3]\n",
    "    second_part=phone_number[3:6]\n",
    "    third_part=phone_number[6:]\n",
    "    return '({}){}-{}'.format(area_code,second_part,third_part)\n",
    "\n",
    "print(number_formatted(phone_number=\"3017041328\"))"
   ]
  },
  {
   "cell_type": "code",
   "execution_count": 13,
   "metadata": {
    "collapsed": false
   },
   "outputs": [
    {
     "name": "stdout",
     "output_type": "stream",
     "text": [
      "Hi Albert\n"
     ]
    }
   ],
   "source": [
    "name='Albert'    \n",
    "def hello(name):\n",
    "    print('Hi {}'.format(name))\n",
    "hello(name)"
   ]
  },
  {
   "cell_type": "code",
   "execution_count": 19,
   "metadata": {
    "collapsed": false
   },
   "outputs": [
    {
     "name": "stdout",
     "output_type": "stream",
     "text": [
      "2018-07-11 19:32:41.904078\n",
      "2\n"
     ]
    }
   ],
   "source": [
    "import datetime\n",
    "\n",
    "day = datetime.datetime.today() #looks up current date\n",
    "print (day)\n",
    "\n",
    "day = datetime.datetime.today().weekday()\n",
    "print(day)\n"
   ]
  },
  {
   "cell_type": "code",
   "execution_count": null,
   "metadata": {
    "collapsed": true
   },
   "outputs": [],
   "source": []
  }
 ],
 "metadata": {
  "kernelspec": {
   "display_name": "Python 3",
   "language": "python",
   "name": "python3"
  },
  "language_info": {
   "codemirror_mode": {
    "name": "ipython",
    "version": 3
   },
   "file_extension": ".py",
   "mimetype": "text/x-python",
   "name": "python",
   "nbconvert_exporter": "python",
   "pygments_lexer": "ipython3",
   "version": "3.5.1"
  }
 },
 "nbformat": 4,
 "nbformat_minor": 2
}
