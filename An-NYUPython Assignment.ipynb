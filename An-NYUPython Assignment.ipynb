{
 "cells": [
  {
   "cell_type": "code",
   "execution_count": null,
   "metadata": {
    "collapsed": true
   },
   "outputs": [],
   "source": [
    "tweet=raw_input(\"Please enter tweet!\")\n",
    "print(tweet)\n",
    "x=250\n",
    "if len(tweet)>x:\n",
    "   print('Tweet is too long by {} characters'.format(len(tweet)-x))\n",
    "else:\n",
    "   print('Tweet is {} characters long and you have {} characters left'.format(len(tweet), x-len(tweet)))"
   ]
  }
 ],
 "metadata": {
  "kernelspec": {
   "display_name": "Python 3",
   "language": "python",
   "name": "python3"
  },
  "language_info": {
   "codemirror_mode": {
    "name": "ipython",
    "version": 3
   },
   "file_extension": ".py",
   "mimetype": "text/x-python",
   "name": "python",
   "nbconvert_exporter": "python",
   "pygments_lexer": "ipython3",
   "version": "3.5.1"
  }
 },
 "nbformat": 4,
 "nbformat_minor": 0
}
